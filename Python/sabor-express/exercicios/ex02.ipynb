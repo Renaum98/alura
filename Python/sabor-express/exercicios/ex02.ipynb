{
 "cells": [
  {
   "cell_type": "markdown",
   "metadata": {},
   "source": [
    "**1** - Crie uma lista para cada informação a seguir:\n",
    "\n",
    "    Lista de números de 1 a 10;\n",
    "    Lista com quatro nomes;\n",
    "    Lista com o ano que você nasceu e o ano atual.\n",
    "\n",
    "**2** - Crie uma lista e utilize um loop for para percorrer todos os elementos da lista.\n",
    "\n",
    "**3** - Utilize um loop for para calcular a soma dos números ímpares de 1 a 10.\n",
    "\n",
    "**4** - Utilize um loop for para imprimir os números de 1 a 10 em ordem decrescente.\n",
    "\n",
    "**5** - Solicite ao usuário um número e, em seguida, utilize um loop for para imprimir a tabuada desse número, indo de 1 a 10.\n",
    "\n",
    "**6** - Crie uma lista de números e utilize um loop for para calcular a soma de todos os elementos. Utilize um bloco try-except para lidar com possíveis exceções.\n",
    "\n",
    "**7** - Construa um código que calcule a média dos valores em uma lista. Utilize um bloco try-except para lidar com a divisão por zero, caso a lista esteja vazia."
   ]
  },
  {
   "cell_type": "code",
   "execution_count": null,
   "metadata": {},
   "outputs": [
    {
     "name": "stdout",
     "output_type": "stream",
     "text": [
      "[1, 2, 3, 4, 5, 6, 7, 8, 9, 10]\n",
      "['André', 'Paulo', 'Marcos', 'Ana']\n",
      "[1998, 2025]\n"
     ]
    }
   ],
   "source": [
    "#1\n",
    "lista_1_10 = []\n",
    "for i in range(0,10):\n",
    "    lista_1_10.append(i+1)\n",
    "print(lista_1_10)\n",
    "\n",
    "lista_nome = ['André','Paulo','Marcos','Ana']\n",
    "print(lista_nome)\n",
    "\n",
    "lista_ano = [1998,2025]\n",
    "print(lista_ano)"
   ]
  },
  {
   "cell_type": "code",
   "execution_count": 14,
   "metadata": {},
   "outputs": [
    {
     "name": "stdout",
     "output_type": "stream",
     "text": [
      "0.['Paulo', 'André', 'Maria', 'Angelo']\n",
      "1.[19, 25, 52, 60]\n"
     ]
    }
   ],
   "source": [
    "#2\n",
    "lista = [['Paulo','André','Maria','Angelo'],[19,25,52,60]]\n",
    "for i,dados in enumerate(lista):\n",
    "    print(f'{i}.{dados}')\n"
   ]
  },
  {
   "cell_type": "code",
   "execution_count": 20,
   "metadata": {},
   "outputs": [
    {
     "name": "stdout",
     "output_type": "stream",
     "text": [
      "1\n",
      "3\n",
      "5\n",
      "7\n",
      "9\n",
      "A soma dos valores impares é igual a: 25\n"
     ]
    }
   ],
   "source": [
    "#3\n",
    "soma_impar = 0\n",
    "for num in range(1,11,2):\n",
    "    if num / 2 != 0:\n",
    "        soma_impar+=num\n",
    "        print(num)\n",
    "print(f'A soma dos valores impares é igual a: {soma_impar}')"
   ]
  },
  {
   "cell_type": "code",
   "execution_count": 27,
   "metadata": {},
   "outputs": [
    {
     "name": "stdout",
     "output_type": "stream",
     "text": [
      "10\n",
      "9\n",
      "8\n",
      "7\n",
      "6\n",
      "5\n",
      "4\n",
      "3\n",
      "2\n",
      "1\n"
     ]
    }
   ],
   "source": [
    "#4\n",
    "for i in range(11,1,-1):\n",
    "    print(i-1)"
   ]
  },
  {
   "cell_type": "code",
   "execution_count": 28,
   "metadata": {},
   "outputs": [
    {
     "name": "stdout",
     "output_type": "stream",
     "text": [
      "2 x 0 = 0\n",
      "2 x 1 = 2\n",
      "2 x 2 = 4\n",
      "2 x 3 = 6\n",
      "2 x 4 = 8\n",
      "2 x 5 = 10\n",
      "2 x 6 = 12\n",
      "2 x 7 = 14\n",
      "2 x 8 = 16\n",
      "2 x 9 = 18\n",
      "2 x 10 = 20\n"
     ]
    }
   ],
   "source": [
    "#5\n",
    "num = int(input('Insira um numero inteiro: '))\n",
    "\n",
    "for i in range(0,11):\n",
    "    print(f'{num} x {i} = {num*i}')\n"
   ]
  },
  {
   "cell_type": "code",
   "execution_count": 37,
   "metadata": {},
   "outputs": [
    {
     "name": "stdout",
     "output_type": "stream",
     "text": [
      "A soma dos numeros é: 51\n"
     ]
    }
   ],
   "source": [
    "#6\n",
    "try:\n",
    "    lista = [1,6,8,8,22,5,1]\n",
    "    soma = 0\n",
    "    for i in lista:\n",
    "        soma+=i\n",
    "    print(f'A soma dos numeros é: {soma}')\n",
    "except:\n",
    "    print('Lista vazia ou sem numeros suficientes')"
   ]
  },
  {
   "cell_type": "code",
   "execution_count": 34,
   "metadata": {},
   "outputs": [
    {
     "name": "stdout",
     "output_type": "stream",
     "text": [
      "A média dos valores da lista é igual a: 4.80\n"
     ]
    }
   ],
   "source": [
    "#7\n",
    "try:\n",
    "    lista = [10,5,2,4,3]\n",
    "    soma = cont = 0\n",
    "    for i in lista:\n",
    "        soma+=i\n",
    "        cont+=1\n",
    "    print(f'A média dos valores da lista é igual a: {soma/cont:.2f}')\n",
    "except:\n",
    "    print('Lista esta vazia ou nao tem numeros suficientes para uma média')\n",
    "\n",
    "    "
   ]
  }
 ],
 "metadata": {
  "kernelspec": {
   "display_name": "Python 3",
   "language": "python",
   "name": "python3"
  },
  "language_info": {
   "codemirror_mode": {
    "name": "ipython",
    "version": 3
   },
   "file_extension": ".py",
   "mimetype": "text/x-python",
   "name": "python",
   "nbconvert_exporter": "python",
   "pygments_lexer": "ipython3",
   "version": "3.12.5"
  }
 },
 "nbformat": 4,
 "nbformat_minor": 2
}
