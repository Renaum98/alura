{
 "cells": [
  {
   "cell_type": "markdown",
   "metadata": {},
   "source": [
    "**1** - Solicite ao usuário que insira um número e, em seguida, use uma estrutura if else para determinar se o número é par ou ímpar.\n",
    "\n",
    "**2** - Pergunte ao usuário sua idade e, com base nisso, use uma estrutura if elif else para classificar a idade em categorias de acordo com as seguintes condições:\n",
    "\n",
    "    Criança: 0 a 12 anos;\n",
    "    Adolescente: 13 a 18 anos;\n",
    "    Adulto: acima de 18 anos.\n",
    "\n",
    "**3** - Solicite um nome de usuário e uma senha e use uma estrutura if else para verificar se o nome de usuário e a senha fornecidos correspondem aos valores esperados determinados por você.\n",
    "\n",
    "**4** - Solicite ao usuário as coordenadas (x, y) de um ponto qualquer e utilize uma estrutura if elif else para determinar em qual quadrante do plano cartesiano o ponto se encontra de acordo com as seguintes condições:\n",
    "\n",
    "    Primeiro Quadrante: os valores de x e y devem ser maiores que zero;\n",
    "    Segundo Quadrante: o valor de x é menor que zero e o valor de y é maior que zero;\n",
    "    Terceiro Quadrante: os valores de x e y devem ser menores que zero;\n",
    "    Quarto Quadrante: o valor de x é maior que zero e o valor de y é menor que zero;\n",
    "    Caso contrário: o ponto está localizado no eixo ou origem."
   ]
  },
  {
   "cell_type": "code",
   "execution_count": 13,
   "metadata": {},
   "outputs": [
    {
     "name": "stdout",
     "output_type": "stream",
     "text": [
      "O valor digitado não é um numero inteiro.\n",
      "O número 2 é impar.\n"
     ]
    }
   ],
   "source": [
    "#1\n",
    "while True:    \n",
    "    try:\n",
    "        num = int(input('Digite um número inteiro: ').strip())\n",
    "        if num / 2 == 0:\n",
    "            print(f'O número {num} é par.')\n",
    "        else:\n",
    "            print(f'O número {num} é impar.')\n",
    "        break\n",
    "    except ValueError:\n",
    "        print('O valor digitado não é um numero inteiro.')"
   ]
  },
  {
   "cell_type": "code",
   "execution_count": null,
   "metadata": {},
   "outputs": [
    {
     "name": "stdout",
     "output_type": "stream",
     "text": [
      "Você tem 19 anos, e é Adulto\n"
     ]
    }
   ],
   "source": [
    "#2\n",
    "idade = int(input('Digite sua idade: ').strip())\n",
    "if idade <=12:\n",
    "    print(f'Você tem {idade} anos, e é Criança')\n",
    "elif idade <=18:\n",
    "    print(f'Você tem {idade} anos, e é Adolescente')\n",
    "else:\n",
    "    print(f'Você tem {idade} anos, e é Adulto')\n"
   ]
  },
  {
   "cell_type": "code",
   "execution_count": 27,
   "metadata": {},
   "outputs": [
    {
     "name": "stdout",
     "output_type": "stream",
     "text": [
      "Nome de usuario e senha aceito\n"
     ]
    }
   ],
   "source": [
    "#3\n",
    "usuario = input('Digite seu nome de usuario: ')\n",
    "senha = int(input('Digite sua senha: '))\n",
    "if usuario == 'Renan123' and senha == 134525:\n",
    "    print('Nome de usuario e senha aceito')\n",
    "else:\n",
    "    print('Usuario ou Senha invalida, Tente novamente!')\n"
   ]
  },
  {
   "cell_type": "code",
   "execution_count": null,
   "metadata": {},
   "outputs": [],
   "source": [
    "#4\n"
   ]
  }
 ],
 "metadata": {
  "kernelspec": {
   "display_name": "Python 3",
   "language": "python",
   "name": "python3"
  },
  "language_info": {
   "codemirror_mode": {
    "name": "ipython",
    "version": 3
   },
   "file_extension": ".py",
   "mimetype": "text/x-python",
   "name": "python",
   "nbconvert_exporter": "python",
   "pygments_lexer": "ipython3",
   "version": "3.12.5"
  }
 },
 "nbformat": 4,
 "nbformat_minor": 2
}
