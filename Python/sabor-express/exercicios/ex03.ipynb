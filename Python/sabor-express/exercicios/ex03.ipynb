{
 "cells": [
  {
   "cell_type": "markdown",
   "metadata": {},
   "source": [
    "**1** - Crie um dicionário representando informações sobre uma pessoa, como nome, idade e cidade.\n",
    "\n",
    "**2** - Utilizando o dicionário criado no item 1:\n",
    "\n",
    "    Modifique o valor de um dos itens no dicionário (por exemplo, atualize a idade da pessoa);\n",
    "    Adicione um campo de profissão para essa pessoa;\n",
    "    Remova um item do dicionário.\n",
    "\n",
    "**3** - Crie um dicionário que relacione os números de 1 a 5 aos seus respectivos quadrados.\n",
    "\n",
    "**4** - Crie um dicionário e verifique se uma chave específica existe dentro desse dicionário.\n",
    "\n",
    "**5** - Escreva um código que conte a frequência de cada palavra em uma frase utilizando um dicionário."
   ]
  },
  {
   "cell_type": "code",
   "execution_count": 17,
   "metadata": {},
   "outputs": [
    {
     "name": "stdout",
     "output_type": "stream",
     "text": [
      "[{'nome': 'Carlos', 'idade': 22, 'cidade': 'Santo André'}]\n"
     ]
    }
   ],
   "source": [
    "#1\n",
    "lista = []\n",
    "dados = {}\n",
    "dados['nome'] = 'Carlos'\n",
    "dados['idade'] = 22\n",
    "dados['cidade'] = 'Santo André'\n",
    "lista.append(dados)\n",
    "print(lista)\n",
    "\n"
   ]
  },
  {
   "cell_type": "code",
   "execution_count": null,
   "metadata": {},
   "outputs": [
    {
     "name": "stdout",
     "output_type": "stream",
     "text": [
      "[{'nome': 'André', 'idade': 22, 'cidade': 'Santo André'}]\n"
     ]
    }
   ],
   "source": [
    "#2\n",
    "lista = []\n",
    "dados = {}\n",
    "dados['nome'] = 'Carlos'\n",
    "dados['idade'] = 22\n",
    "dados['cidade'] = 'Santo André'\n",
    "lista.append(dados)\n",
    "lista[0][\"nome\"] = 'André'\n",
    "print(lista)"
   ]
  },
  {
   "cell_type": "code",
   "execution_count": 29,
   "metadata": {},
   "outputs": [
    {
     "name": "stdout",
     "output_type": "stream",
     "text": [
      "{1: 1, 2: 4, 3: 9, 4: 16, 5: 25}\n"
     ]
    }
   ],
   "source": [
    "#3\n",
    "numeros_quadrados = {x: x**2 for x in range(1, 6)}\n",
    "print(numeros_quadrados)"
   ]
  },
  {
   "cell_type": "code",
   "execution_count": 28,
   "metadata": {},
   "outputs": [
    {
     "name": "stdout",
     "output_type": "stream",
     "text": [
      "o valor esta no dicionario\n"
     ]
    }
   ],
   "source": [
    "#4\n",
    "dicionario = {'idades': 2}\n",
    "if 'idades' in dicionario:\n",
    "    print('o valor esta no dicionario')\n",
    "else:\n",
    "    print('não esta')"
   ]
  },
  {
   "cell_type": "code",
   "execution_count": 30,
   "metadata": {},
   "outputs": [
    {
     "name": "stdout",
     "output_type": "stream",
     "text": [
      "{'Python': 1, 'se': 1, 'tornou': 1, 'uma': 1, 'das': 1, 'linguagens': 1, 'de': 1, 'programação': 1, 'mais': 1, 'populares': 1, 'do': 1, 'mundo': 1, 'nos': 1, 'últimos': 1, 'anos.': 1}\n"
     ]
    }
   ],
   "source": [
    "#5\n",
    "frase = \"Python se tornou uma das linguagens de programação mais populares do mundo nos últimos anos.\"\n",
    "contagem_palavras = {}\n",
    "palavras = frase.split()\n",
    "for palavra in palavras:\n",
    "    contagem_palavras[palavra] = contagem_palavras.get(palavra, 0) + 1\n",
    "print(contagem_palavras)"
   ]
  }
 ],
 "metadata": {
  "kernelspec": {
   "display_name": "Python 3",
   "language": "python",
   "name": "python3"
  },
  "language_info": {
   "codemirror_mode": {
    "name": "ipython",
    "version": 3
   },
   "file_extension": ".py",
   "mimetype": "text/x-python",
   "name": "python",
   "nbconvert_exporter": "python",
   "pygments_lexer": "ipython3",
   "version": "3.12.5"
  }
 },
 "nbformat": 4,
 "nbformat_minor": 2
}
