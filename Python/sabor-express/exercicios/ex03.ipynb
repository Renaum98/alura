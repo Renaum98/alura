{
 "cells": [
  {
   "cell_type": "markdown",
   "metadata": {},
   "source": [
    "**1** - Crie um dicionário representando informações sobre uma pessoa, como nome, idade e cidade.\n",
    "\n",
    "**2** - Utilizando o dicionário criado no item 1:\n",
    "\n",
    "    Modifique o valor de um dos itens no dicionário (por exemplo, atualize a idade da pessoa);\n",
    "    Adicione um campo de profissão para essa pessoa;\n",
    "    Remova um item do dicionário.\n",
    "\n",
    "**3** - Crie um dicionário que relacione os números de 1 a 5 aos seus respectivos quadrados.\n",
    "\n",
    "**4** - Crie um dicionário e verifique se uma chave específica existe dentro desse dicionário.\n",
    "\n",
    "**5** - Escreva um código que conte a frequência de cada palavra em uma frase utilizando um dicionário."
   ]
  },
  {
   "cell_type": "code",
   "execution_count": null,
   "metadata": {},
   "outputs": [],
   "source": []
  }
 ],
 "metadata": {
  "language_info": {
   "name": "python"
  }
 },
 "nbformat": 4,
 "nbformat_minor": 2
}
