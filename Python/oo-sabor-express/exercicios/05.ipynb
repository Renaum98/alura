{
 "cells": [
  {
   "cell_type": "markdown",
   "metadata": {},
   "source": [
    "**1**-Crie uma classe chamada ContaBancaria com um construtor que aceita os parâmetros titular e saldo. Inicie o atributo ativo como False por padrão.\n",
    "\n",
    "**2**-Na classe ContaBancaria, adicione um método especial `__str__` que retorna uma mensagem formatada com o titular e o saldo da conta. Crie duas instâncias da classe e imprima essas instâncias.\n",
    "\n",
    "**3**-Adicione um método de classe chamado ativar_conta à classe ContaBancaria que define o atributo ativo como True. Crie uma instância da classe, chame o método de classe e imprima o valor de ativo.\n",
    "\n",
    "**4**-Refatore a classe ContaBancaria para utilizar a abordagem \"pythonica\" na criação de atributos. Utilize propriedades, se necessário.\n",
    "\n",
    "**5**-Crie uma instância da classe e imprima o valor da propriedade titular.\n",
    "\n",
    "**6**-Crie uma classe chamada ClienteBanco com um construtor que aceita 5 atributos. Instancie 3 objetos desta classe e atribua valores aos seus atributos através do método construtor.\n",
    "\n",
    "**7**-Crie um método de classe para a conta ClienteBanco."
   ]
  },
  {
   "cell_type": "code",
   "execution_count": 8,
   "metadata": {},
   "outputs": [
    {
     "name": "stdout",
     "output_type": "stream",
     "text": [
      "Antes de ativar: False\n",
      "Depois de ativo: True\n",
      "Marcos Almeida | R$250.00\n",
      "André Dos Santos | R$752.10\n"
     ]
    }
   ],
   "source": [
    "1#\n",
    "class ContaBancaria:\n",
    "    def __init__(self, titular = '', saldo = 0, ativo = False):\n",
    "        self.titular = titular.title()\n",
    "        self.saldo = saldo\n",
    "        self._ativo = ativo\n",
    "    def __str__(self):\n",
    "        return f'{self.titular} | R${self.saldo:.2f}'\n",
    "    \n",
    "    @classmethod\n",
    "    def ativar_conta(cls, conta):\n",
    "        conta._ativo = True\n",
    "\n",
    "cb1 = ContaBancaria(titular = 'Marcos Almeida',saldo = 250)\n",
    "cb2 = ContaBancaria('andré dos santos', 752.10)\n",
    "\n",
    "print(f'Antes de ativar: {cb1._ativo}')\n",
    "\n",
    "ContaBancaria.ativar_conta(cb1)\n",
    "\n",
    "print(f'Depois de ativo: {cb1._ativo}')\n",
    "\n",
    "print(cb1)\n",
    "print(cb2)"
   ]
  }
 ],
 "metadata": {
  "kernelspec": {
   "display_name": "Python 3",
   "language": "python",
   "name": "python3"
  },
  "language_info": {
   "codemirror_mode": {
    "name": "ipython",
    "version": 3
   },
   "file_extension": ".py",
   "mimetype": "text/x-python",
   "name": "python",
   "nbconvert_exporter": "python",
   "pygments_lexer": "ipython3",
   "version": "3.12.5"
  }
 },
 "nbformat": 4,
 "nbformat_minor": 2
}
