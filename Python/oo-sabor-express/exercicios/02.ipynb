{
 "cells": [
  {
   "cell_type": "markdown",
   "metadata": {},
   "source": [
    "**1** - Atribua o valor 'Italiana' ao atributo categoria da instância restaurante_praca da classe Restaurante.\n",
    "\n",
    "**2** - Acesse o valor do atributo nome da instância restaurante_praca da classe Restaurante.\n",
    "\n",
    "**3** - Verifique o valor inicial do atributo ativo para a instância restaurante_praca e exiba uma mensagem informando se o restaurante está *a*tivo ou inativo.\n",
    "\n",
    "**4** - Acesse o valor do atributo de classe categoria diretamente da classe Restaurante e armazene em uma variável chamada categoria.\n",
    "\n",
    "**5** - Altere o valor do atributo nome para 'Bistrô'.\n",
    "\n",
    "**6** - Crie uma nova instância da classe Restaurante chamada restaurante_pizza com o nome 'Pizza Place' e categoria 'Fast Food'.\n",
    "\n",
    "**7** - Verifique se a categoria da instância restaurante_pizza é 'Fast Food'.\n",
    "\n",
    "**8** - Mude o estado da instância restaurante_pizza para ativo.\n",
    "\n",
    "**9** - Imprima no console o nome e a categoria da instância restaurante_praca.\n"
   ]
  },
  {
   "cell_type": "code",
   "execution_count": 1,
   "metadata": {},
   "outputs": [
    {
     "name": "stdout",
     "output_type": "stream",
     "text": [
      "Praça\n"
     ]
    }
   ],
   "source": [
    "class Restaurante:\n",
    "    nome = ''\n",
    "    categoria = ''\n",
    "\n",
    "restaurante_praca = Restaurante()\n",
    "restaurante_praca.nome = 'Praça'\n",
    "restaurante_praca.categoria = 'Italiana'\n",
    "\n",
    "print(restaurante_praca.nome)"
   ]
  }
 ],
 "metadata": {
  "kernelspec": {
   "display_name": "Python 3",
   "language": "python",
   "name": "python3"
  },
  "language_info": {
   "codemirror_mode": {
    "name": "ipython",
    "version": 3
   },
   "file_extension": ".py",
   "mimetype": "text/x-python",
   "name": "python",
   "nbconvert_exporter": "python",
   "pygments_lexer": "ipython3",
   "version": "3.12.5"
  }
 },
 "nbformat": 4,
 "nbformat_minor": 2
}
