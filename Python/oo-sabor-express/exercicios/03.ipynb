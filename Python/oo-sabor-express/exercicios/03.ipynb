{
 "cells": [
  {
   "cell_type": "markdown",
   "metadata": {},
   "source": [
    "1-Implemente uma classe chamada Carro com os atributos básicos, como modelo, cor e ano. Crie uma instância dessa classe e atribua valores aos seus atributos.\n",
    "\n",
    "2-Crie uma classe chamada Restaurante com os atributos nome, categoria, ativo e crie mais 2 atributos. Instancie um restaurante e atribua valores aos seus atributos.\n",
    "\n",
    "3-Modifique a classe Restaurante adicionando um construtor que aceita nome e categoria como parâmetros e inicia ativo como False por padrão. Crie uma instância utilizando o construtor.\n",
    "\n",
    "4-Adicione um método especial `__str__` à classe Restaurante para que, ao imprimir uma instância, seja exibida uma mensagem formatada com o nome e a categoria. Exiba essa mensagem para uma instância de restaurante.\n",
    "\n",
    "5-Crie uma classe chamada Cliente e pense em 4 atributos. Em seguida, instancie 3 objetos desta classe e atribua valores aos seus atributos através de um método construtor.\n"
   ]
  },
  {
   "cell_type": "code",
   "execution_count": null,
   "metadata": {},
   "outputs": [
    {
     "name": "stdout",
     "output_type": "stream",
     "text": [
      "Corsa | Prata Kwid | Branco\n"
     ]
    }
   ],
   "source": [
    "#1\n",
    "class Carro:\n",
    "    def __init__(self, modelo='', cor = '', ano = int()):\n",
    "        self.modelo = modelo\n",
    "        self.cor = cor\n",
    "        self.ano = ano\n",
    "\n",
    "    def __str__(self):\n",
    "        return f'{self.modelo} | {self.cor}'\n",
    "\n",
    "    \n",
    "carro1 = Carro('Corsa', 'Prata', 1995)\n",
    "carro2 = Carro('Kwid', 'Branco', 2020)\n",
    "\n",
    "print(carro1)"
   ]
  },
  {
   "cell_type": "code",
   "execution_count": 19,
   "metadata": {},
   "outputs": [
    {
     "name": "stdout",
     "output_type": "stream",
     "text": [
      "A Bela Pizza - Italiana   - False - 50-60\n",
      "Rei Shawarma - Arabe      - False - 20-40\n",
      "Brasileirissimo - Brasileira - False - 40-60\n"
     ]
    }
   ],
   "source": [
    "2#\n",
    "class Restaurante:\n",
    "    restaurantes = []\n",
    "\n",
    "    def __init__(self, nome = '', categoria = '', ativo = False, faixa_preco = ''):\n",
    "        self.nome = nome\n",
    "        self.categoria = categoria\n",
    "        self.ativo = ativo\n",
    "        self.faixa_preco = faixa_preco\n",
    "\n",
    "        Restaurante.restaurantes.append(self)\n",
    "    \n",
    "    def listar_rest():\n",
    "        for rest in Restaurante.restaurantes:\n",
    "            print(f'{rest.nome.ljust(10)} - {rest.categoria.ljust(10)} - {rest.ativo} - {rest.faixa_preco}')\n",
    "\n",
    "\n",
    "restaurante1 = Restaurante('A Bela Pizza', 'Italiana',False,'50-60')\n",
    "restaurante2 = Restaurante('Rei Shawarma', 'Arabe',False,'20-40')\n",
    "restaurante3 = Restaurante('Brasileirissimo', 'Brasileira',False,'40-60')\n",
    "\n",
    "Restaurante.listar_rest()"
   ]
  },
  {
   "cell_type": "code",
   "execution_count": 21,
   "metadata": {},
   "outputs": [],
   "source": [
    "5#\n",
    "class Clientes:\n",
    "    def __init__(self, nome = '', sobrenome = '', cpf = '', dt_nascimento = ''):\n",
    "        self.nome = nome\n",
    "        self.sobrenome = sobrenome\n",
    "        self.cpf = cpf\n",
    "        self.dt_nascimento = dt_nascimento\n",
    "\n",
    "cli01 = Clientes('Renan', 'Barbosa', '444.444.444-44', '20/09/1980')\n",
    "cli02 = Clientes('André', 'Marques', '111.222.333-44', '14/09/1974')\n",
    "cli03 = Clientes('Marta', 'Andrade', '123.456.789-10', '20/07/2014')"
   ]
  }
 ],
 "metadata": {
  "kernelspec": {
   "display_name": "Python 3",
   "language": "python",
   "name": "python3"
  },
  "language_info": {
   "codemirror_mode": {
    "name": "ipython",
    "version": 3
   },
   "file_extension": ".py",
   "mimetype": "text/x-python",
   "name": "python",
   "nbconvert_exporter": "python",
   "pygments_lexer": "ipython3",
   "version": "3.12.5"
  }
 },
 "nbformat": 4,
 "nbformat_minor": 2
}
